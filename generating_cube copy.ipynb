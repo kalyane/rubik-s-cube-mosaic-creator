{
 "cells": [
  {
   "cell_type": "markdown",
   "source": [
    "# Generating Neural Networks trained with Rubik's cubes configurations\r\n",
    "\r\n",
    "This file is used to train the artificial neural network with the [Cube Dataset](cube_dataset.csv) and generate models that can be used at any time without the need to train the model again. The generated files will be in this repository."
   ],
   "metadata": {}
  },
  {
   "cell_type": "markdown",
   "source": [
    "## 1. Neural Network to find final cube representation\r\n",
    "\r\n",
    "This model will be able to predict the value of the full Rubik's cube just by receiving a 3x3 matrix that represents the cube pixels in the mosaic.\r\n",
    "\r\n",
    "As there are going to be 6 different possible sides that we can use as inputs, my idea is that the 3x3 matrix will transform into a 6x9 matrix where the values that we don't know would be considered -1. This way the Neural Network would work towards finding those missing values.\r\n",
    "\r\n",
    "For this case, I will train inputing each side with the rest being a -1 configuration and the target being the full cube."
   ],
   "metadata": {}
  },
  {
   "cell_type": "markdown",
   "source": [],
   "metadata": {}
  }
 ],
 "metadata": {
  "orig_nbformat": 4,
  "language_info": {
   "name": "python"
  }
 },
 "nbformat": 4,
 "nbformat_minor": 2
}
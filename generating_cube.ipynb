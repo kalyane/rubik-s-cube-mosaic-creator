{
 "cells": [
  {
   "cell_type": "markdown",
   "source": [
    "# Creating Rubik's cubes configurations\r\n",
    "\r\n",
    "This file contains a function that produces a valid Rubik's cube configuration out of a 3x3 matrix."
   ],
   "metadata": {}
  },
  {
   "cell_type": "markdown",
   "source": [
    "## 1. Creating a Rubik's cube configuration\r\n",
    "\r\n",
    "We know a 3x3 matrix, now we need to figure the rest of the cube.\r\n",
    "\r\n",
    "There are 6 fixed pieces and 20 changing. Better saying, in the 2D matrix there are 48 values that change position. We already know 8 from the input matrix, now we need to figure the other 40. In total, there are only 9 cells with the same color.\r\n",
    "\r\n",
    "In my representation, the 0-8 representation of a side has 4 corners (0,2,6,8), 4 edges (1,3,5,7), and a center (4).\r\n",
    "\r\n",
    "We know that there is no piece in combination with the opposite color, e.g. edge piece with white and yellow.\r\n",
    "\r\n",
    "We know that each piece is unique, e.g. edge piece with green and white.\r\n",
    "\r\n",
    "As there is a set of 26 pre-defined pieces, I am going to stick to this idea and scramble them.\r\n",
    "\r\n",
    "After, I am going to test and see if the scramble is valid.\r\n",
    "\r\n",
    "There might be more efficient ways of doing this, but I thought this could work properly."
   ],
   "metadata": {}
  },
  {
   "cell_type": "code",
   "execution_count": 5,
   "source": [
    "import random"
   ],
   "outputs": [],
   "metadata": {}
  },
  {
   "cell_type": "code",
   "execution_count": 8,
   "source": [
    "# function to generate a cube based on a face\r\n",
    "def generate_cube(matrix_mosaic):\r\n",
    "    cube = [ [6 for _ in range(9)] for _ in range(6)]\r\n",
    "\r\n",
    "    cube[matrix_mosaic[4]] = matrix_mosaic\r\n",
    "\r\n",
    "    # each number represents a color defined on the create_cube_dataset.ipynb\r\n",
    "    corners = [[0, 2, 4], [0, 2, 5], [0, 5, 3], [0, 3, 4], [1, 2, 5], [1, 2, 4], [1, 4, 3], [1, 3, 5]]\r\n",
    "    edges = [[0, 2], [0, 4], [0, 3], [0, 5], [1, 2], [1, 4], [1, 3], [1, 5], [3, 5], [3, 4], [2, 4], [2, 5]]\r\n",
    "\r\n",
    "    # 4 corners (0,2,6,8), 4 edges (1,3,5,7), and a center (4)\r\n",
    "\r\n",
    "    # each side has a certain configuration\r\n",
    "    # white\r\n",
    "    def white():\r\n",
    "        cube[0][4] = 0\r\n",
    "        if cube[0][0] == 6:\r\n",
    "            cubie = random.choice(corners)\r\n",
    "            cubie = corners.pop(corners.index(cubie))\r\n",
    "            random.shuffle(cubie)\r\n",
    "            cube[0][0] = cubie[0]\r\n",
    "            cube[4][2] = cubie[1]\r\n",
    "            cube[2][6] = cubie[2]\r\n",
    "\r\n",
    "        if cube[0][2] == 6:\r\n",
    "            pass\r\n",
    "        if cube[0][6] == 6:\r\n",
    "            pass\r\n",
    "        if cube[0][8] == 6:\r\n",
    "            pass\r\n",
    "        if cube[0][1] == 6:\r\n",
    "            pass\r\n",
    "        if cube[0][3] == 6:\r\n",
    "            pass\r\n",
    "        if cube[0][5] == 6:\r\n",
    "            pass\r\n",
    "        if cube[0][7] == 6:\r\n",
    "            pass\r\n",
    "\r\n",
    "    # yellow\r\n",
    "    def yellow():\r\n",
    "        print(\"yellow\")\r\n",
    "\r\n",
    "    # red\r\n",
    "    def red():\r\n",
    "        print(\"red\")\r\n",
    "\r\n",
    "    # orange\r\n",
    "    def orange():\r\n",
    "        print(\"orange\")\r\n",
    "\r\n",
    "    # blue\r\n",
    "    def blue():\r\n",
    "        print(\"blue\")\r\n",
    "\r\n",
    "    # green\r\n",
    "    def green():\r\n",
    "        print(\"green\")\r\n",
    "\r\n",
    "    \r\n",
    "    # list of functions\r\n",
    "    funcs = [white, yellow, red, orange, blue, green]\r\n",
    "\r\n",
    "    # first organize the cubies of the side we are working on\r\n",
    "    funcs.pop(matrix_mosaic[4])()\r\n",
    "\r\n",
    "    # then we randomly assign the rest\r\n",
    "    random.shuffle(funcs)\r\n",
    "    funcs.pop()()\r\n",
    "    funcs.pop()()\r\n",
    "    funcs.pop()()\r\n",
    "    funcs.pop()()\r\n",
    "    funcs.pop()()\r\n",
    "\r\n",
    "    return cube\r\n",
    "\r\n",
    "example_input = [4, 2, 4, 2, 2, 4, 2, 3, 2]\r\n",
    "\r\n",
    "generate_cube(example_input)"
   ],
   "outputs": [
    {
     "output_type": "stream",
     "name": "stdout",
     "text": [
      "red\n",
      "orange\n",
      "white\n",
      "green\n",
      "blue\n",
      "yellow\n"
     ]
    },
    {
     "output_type": "execute_result",
     "data": {
      "text/plain": [
       "[[6, 6, 6, 6, 6, 6, 6, 6, 6],\n",
       " [6, 6, 6, 6, 6, 6, 6, 6, 6],\n",
       " [4, 2, 4, 2, 2, 4, 2, 3, 2],\n",
       " [6, 6, 6, 6, 6, 6, 6, 6, 6],\n",
       " [6, 6, 6, 6, 6, 6, 6, 6, 6],\n",
       " [6, 6, 6, 6, 6, 6, 6, 6, 6]]"
      ]
     },
     "metadata": {},
     "execution_count": 8
    }
   ],
   "metadata": {}
  },
  {
   "cell_type": "markdown",
   "source": [],
   "metadata": {}
  }
 ],
 "metadata": {
  "orig_nbformat": 4,
  "language_info": {
   "name": "python",
   "version": "3.8.8",
   "mimetype": "text/x-python",
   "codemirror_mode": {
    "name": "ipython",
    "version": 3
   },
   "pygments_lexer": "ipython3",
   "nbconvert_exporter": "python",
   "file_extension": ".py"
  },
  "kernelspec": {
   "name": "python3",
   "display_name": "Python 3.8.8 64-bit ('base': conda)"
  },
  "interpreter": {
   "hash": "735a7325a9e72e60b585a525195a7ebd9f4944211ae877f55348337ef9976881"
  }
 },
 "nbformat": 4,
 "nbformat_minor": 2
}
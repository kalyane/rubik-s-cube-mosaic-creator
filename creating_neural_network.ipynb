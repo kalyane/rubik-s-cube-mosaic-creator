{
 "cells": [
  {
   "cell_type": "markdown",
   "metadata": {},
   "source": [
    "# Generating a Neural Network to find the depth of any cube\n",
    "\n",
    "This file is used to train the artificial neural network with a cube dataset that Kalyane created with more than 4.5 million datapoints, but unfortunatelly cannot be push to GitHub as it is a large file, and generate models that can be used at any time without the need to train the model again. The generated files/models will be in this repository."
   ]
  },
  {
   "cell_type": "markdown",
   "metadata": {},
   "source": [
    "## 1. Neural Network to find the depth of any cube\n",
    "\n",
    "The neural network will be trained with 80% of the data. Will receive any Rubik's cube and output the depth using softmax activation function to find a depth between 1 and 9."
   ]
  },
  {
   "cell_type": "code",
   "execution_count": 48,
   "metadata": {},
   "outputs": [],
   "source": [
    "import tensorflow as tf\n",
    "from tensorflow import keras\n",
    "import pandas as pd"
   ]
  },
  {
   "cell_type": "code",
   "execution_count": 49,
   "metadata": {},
   "outputs": [],
   "source": [
    "full_dataset = pd.read_csv('new_cube_dataset.csv')  "
   ]
  },
  {
   "cell_type": "markdown",
   "metadata": {},
   "source": [
    "## 1.1. Creating the training and testing sets\n",
    "\n",
    "I am going to use the famous sklearn library to divide the dataset, but first, I get only the values of every single row of the datafram, creating then a numpy array that has the same shape of the input layer of my ANN."
   ]
  },
  {
   "cell_type": "code",
   "execution_count": 50,
   "metadata": {},
   "outputs": [],
   "source": [
    "from sklearn.model_selection import train_test_split\n",
    "\n",
    "columns = [ 'cube_'+str(layer)+'_'+str(cubie) for layer in range(6) for cubie in range(9)]\n",
    "\n",
    "X = full_dataset[columns].values\n",
    "y = full_dataset[\"depth\"].values"
   ]
  },
  {
   "cell_type": "code",
   "execution_count": 51,
   "metadata": {},
   "outputs": [],
   "source": [
    "X_train, X_test, y_train, y_test = train_test_split(X, y, test_size=0.2, random_state=42)"
   ]
  },
  {
   "cell_type": "code",
   "execution_count": 52,
   "metadata": {},
   "outputs": [
    {
     "data": {
      "text/plain": [
       "array([3, 0, 0, 3, 0, 0, 5, 5, 5, 2, 2, 4, 1, 1, 4, 1, 1, 4, 3, 4, 4, 0,\n",
       "       2, 2, 0, 2, 2, 3, 3, 3, 3, 3, 3, 2, 5, 5, 1, 4, 4, 1, 4, 4, 1, 0,\n",
       "       0, 5, 5, 0, 5, 5, 2, 1, 1, 2], dtype=int64)"
      ]
     },
     "execution_count": 52,
     "metadata": {},
     "output_type": "execute_result"
    }
   ],
   "source": [
    "X_train[0]"
   ]
  },
  {
   "cell_type": "code",
   "execution_count": 53,
   "metadata": {},
   "outputs": [],
   "source": [
    "# changing classification from (1, 9) to (0, 8)\n",
    "y_train -= 1\n",
    "y_test -= 1"
   ]
  },
  {
   "cell_type": "code",
   "execution_count": 54,
   "metadata": {},
   "outputs": [
    {
     "data": {
      "text/plain": [
       "4"
      ]
     },
     "execution_count": 54,
     "metadata": {},
     "output_type": "execute_result"
    }
   ],
   "source": [
    "y_train[0]"
   ]
  },
  {
   "cell_type": "markdown",
   "metadata": {},
   "source": [
    "## 1.2. Building Neural Network using Keras layers\n",
    "\n",
    "I am going to create a really simple neural network because the more complexity more time it will take and I don't have much resourses. To do that, I am using the keras tuner to find the \"best\" hyperparameters as there are many different combinations that could be implemented but not all of them would have good results."
   ]
  },
  {
   "cell_type": "code",
   "execution_count": 55,
   "metadata": {},
   "outputs": [],
   "source": [
    "import keras_tuner as kt\n",
    "\n",
    "def model_builder(hp):\n",
    "  model = keras.Sequential()\n",
    "  model.add(keras.layers.Flatten(input_shape=(54,)))\n",
    "\n",
    "  # Tune the number of units in the first Dense layer\n",
    "  num_layers = hp.Int('num_layers', 2, 10)\n",
    "\n",
    "  for i in range(num_layers):\n",
    "    # Choose an optimal value between 9-54\n",
    "    model.add(keras.layers.Dense(units=hp.Int('units_'+str(i), \n",
    "                                        min_value=9, \n",
    "                                        max_value=54, \n",
    "                                        step=15), \n",
    "                                        activation=hp.Choice(name = 'activation_'+str(i), \n",
    "                                        values = ['relu', 'sigmoid'], ordered = False)))\n",
    "                                        \n",
    "  model.add(keras.layers.Dense(9, activation='softmax'))\n",
    "\n",
    "  # Tune the learning rate for the optimizer\n",
    "  # Choose an optimal value from 0.01, 0.001, or 0.0001\n",
    "  hp_learning_rate = hp.Choice('learning_rate', values=[1e-2, 1e-3, 1e-4])\n",
    "\n",
    "  model.compile(optimizer=keras.optimizers.Adam(learning_rate=hp_learning_rate),\n",
    "                loss=keras.losses.SparseCategoricalCrossentropy(from_logits=False),\n",
    "                metrics=['accuracy'])\n",
    "\n",
    "  return model"
   ]
  },
  {
   "cell_type": "code",
   "execution_count": 56,
   "metadata": {},
   "outputs": [
    {
     "name": "stdout",
     "output_type": "stream",
     "text": [
      "INFO:tensorflow:Reloading Oracle from existing project my_dir\\cube_mosaic\\oracle.json\n",
      "INFO:tensorflow:Reloading Tuner from my_dir\\cube_mosaic\\tuner0.json\n"
     ]
    }
   ],
   "source": [
    "# using hyperband to do the random search to get the best combinations first\n",
    "# then run training and eveluatuion on the best ones\n",
    "tuner = kt.Hyperband(model_builder,\n",
    "                     objective='val_accuracy',\n",
    "                     max_epochs=10,\n",
    "                     factor=3,\n",
    "                     directory='my_dir',\n",
    "                     project_name='cube_mosaic')"
   ]
  },
  {
   "cell_type": "code",
   "execution_count": 62,
   "metadata": {},
   "outputs": [
    {
     "name": "stdout",
     "output_type": "stream",
     "text": [
      "Trial 32 Complete [00h 03m 35s]\n",
      "val_accuracy: 0.36354029178619385\n",
      "\n",
      "Best val_accuracy So Far: 0.36354029178619385\n",
      "Total elapsed time: 01h 21m 47s\n",
      "INFO:tensorflow:Oracle triggered exit\n"
     ]
    }
   ],
   "source": [
    "# stopping training if loss havent improved in the last 5 epochs\n",
    "stop_early = tf.keras.callbacks.EarlyStopping(monitor='val_loss', patience=5)\n",
    "\n",
    "tuner.search(X_train, y_train, steps_per_epoch=4500, epochs=2, validation_split=0.2, callbacks=[stop_early])"
   ]
  },
  {
   "cell_type": "markdown",
   "metadata": {},
   "source": [
    "## 1.3. Training model\n",
    "\n",
    "I will train the model and save it in case of something and for futures experiments. To train the model, I just need to get the best combinations of the tuner."
   ]
  },
  {
   "cell_type": "code",
   "execution_count": null,
   "metadata": {},
   "outputs": [],
   "source": [
    "bestHP = tuner.get_best_hyperparameters(num_trials=1)[0]\n",
    "model = tuner.hypermodel.build(bestHP)"
   ]
  },
  {
   "cell_type": "code",
   "execution_count": 70,
   "metadata": {},
   "outputs": [
    {
     "name": "stdout",
     "output_type": "stream",
     "text": [
      "Epoch 1/50\n",
      "45000/45000 [==============================] - 108s 2ms/step - loss: 1.3311 - accuracy: 0.3934 - val_loss: 1.3340 - val_accuracy: 0.3922\n",
      "Epoch 2/50\n",
      "45000/45000 [==============================] - 105s 2ms/step - loss: 1.3300 - accuracy: 0.3942 - val_loss: 1.3259 - val_accuracy: 0.3962\n",
      "Epoch 3/50\n",
      "45000/45000 [==============================] - 110s 2ms/step - loss: 1.3290 - accuracy: 0.3943 - val_loss: 1.3312 - val_accuracy: 0.3917\n",
      "Epoch 4/50\n",
      "45000/45000 [==============================] - 115s 3ms/step - loss: 1.3282 - accuracy: 0.3945 - val_loss: 1.3283 - val_accuracy: 0.3939\n",
      "Epoch 5/50\n",
      "45000/45000 [==============================] - 117s 3ms/step - loss: 1.3276 - accuracy: 0.3947 - val_loss: 1.3248 - val_accuracy: 0.3973\n",
      "Epoch 6/50\n",
      "45000/45000 [==============================] - 115s 3ms/step - loss: 1.3269 - accuracy: 0.3949 - val_loss: 1.3268 - val_accuracy: 0.3914\n",
      "Epoch 7/50\n",
      "45000/45000 [==============================] - 115s 3ms/step - loss: 1.3265 - accuracy: 0.3951 - val_loss: 1.3249 - val_accuracy: 0.3963\n",
      "Epoch 8/50\n",
      "45000/45000 [==============================] - 113s 3ms/step - loss: 1.3259 - accuracy: 0.3956 - val_loss: 1.3254 - val_accuracy: 0.3954\n",
      "Epoch 9/50\n",
      "45000/45000 [==============================] - 112s 2ms/step - loss: 1.3253 - accuracy: 0.3955 - val_loss: 1.3225 - val_accuracy: 0.3946\n",
      "Epoch 10/50\n",
      "45000/45000 [==============================] - 111s 2ms/step - loss: 1.3247 - accuracy: 0.3958 - val_loss: 1.3235 - val_accuracy: 0.3960\n",
      "Epoch 11/50\n",
      "45000/45000 [==============================] - 109s 2ms/step - loss: 1.3241 - accuracy: 0.3960 - val_loss: 1.3231 - val_accuracy: 0.3970\n",
      "Epoch 12/50\n",
      "45000/45000 [==============================] - 115s 3ms/step - loss: 1.3236 - accuracy: 0.3963 - val_loss: 1.3206 - val_accuracy: 0.3965\n",
      "Epoch 13/50\n",
      "45000/45000 [==============================] - 116s 3ms/step - loss: 1.3228 - accuracy: 0.3961 - val_loss: 1.3209 - val_accuracy: 0.3971\n",
      "Epoch 14/50\n",
      "45000/45000 [==============================] - 114s 3ms/step - loss: 1.3223 - accuracy: 0.3968 - val_loss: 1.3245 - val_accuracy: 0.3966\n",
      "Epoch 15/50\n",
      "45000/45000 [==============================] - 117s 3ms/step - loss: 1.3217 - accuracy: 0.3968 - val_loss: 1.3281 - val_accuracy: 0.3948\n",
      "Epoch 16/50\n",
      "45000/45000 [==============================] - 118s 3ms/step - loss: 1.3213 - accuracy: 0.3969 - val_loss: 1.3182 - val_accuracy: 0.3980\n",
      "Epoch 17/50\n",
      "45000/45000 [==============================] - 120s 3ms/step - loss: 1.3207 - accuracy: 0.3970 - val_loss: 1.3209 - val_accuracy: 0.3979\n",
      "Epoch 18/50\n",
      "45000/45000 [==============================] - 120s 3ms/step - loss: 1.3203 - accuracy: 0.3972 - val_loss: 1.3207 - val_accuracy: 0.3950\n",
      "Epoch 19/50\n",
      "45000/45000 [==============================] - 119s 3ms/step - loss: 1.3198 - accuracy: 0.3975 - val_loss: 1.3196 - val_accuracy: 0.3971\n",
      "Epoch 20/50\n",
      "45000/45000 [==============================] - 121s 3ms/step - loss: 1.3195 - accuracy: 0.3972 - val_loss: 1.3159 - val_accuracy: 0.3981\n",
      "Epoch 21/50\n",
      "45000/45000 [==============================] - 120s 3ms/step - loss: 1.3189 - accuracy: 0.3975 - val_loss: 1.3205 - val_accuracy: 0.3953\n",
      "Epoch 22/50\n",
      "45000/45000 [==============================] - 115s 3ms/step - loss: 1.3184 - accuracy: 0.3979 - val_loss: 1.3215 - val_accuracy: 0.3983\n",
      "Epoch 23/50\n",
      "45000/45000 [==============================] - 115s 3ms/step - loss: 1.3181 - accuracy: 0.3979 - val_loss: 1.3214 - val_accuracy: 0.3968\n",
      "Epoch 24/50\n",
      "45000/45000 [==============================] - 110s 2ms/step - loss: 1.3169 - accuracy: 0.3981 - val_loss: 1.3164 - val_accuracy: 0.3969\n",
      "Epoch 25/50\n",
      "45000/45000 [==============================] - 109s 2ms/step - loss: 1.3148 - accuracy: 0.3993 - val_loss: 1.3204 - val_accuracy: 0.3984\n"
     ]
    }
   ],
   "source": [
    "# I trained to model with different values for epochs and steps_per_epoch\n",
    "# it stopped because of me not having memory, then I continued with lower values\n",
    "history = model.fit(\n",
    "    X_train, \n",
    "    y_train,\n",
    "    epochs=50, \n",
    "    steps_per_epoch=45000,\n",
    "    validation_split=0.1,\n",
    "    validation_steps=2,\n",
    "    callbacks=[stop_early],\n",
    "    verbose = 1\n",
    ")"
   ]
  },
  {
   "cell_type": "code",
   "execution_count": 74,
   "metadata": {},
   "outputs": [
    {
     "name": "stdout",
     "output_type": "stream",
     "text": [
      "INFO:tensorflow:Assets written to: saved_model/my_model\\assets\n"
     ]
    }
   ],
   "source": [
    "# guaranteeing that I will have my model at any point\n",
    "model.save('saved_model/my_model')"
   ]
  },
  {
   "cell_type": "code",
   "execution_count": null,
   "metadata": {},
   "outputs": [],
   "source": [
    "# changing name values\n",
    "model._name = \"cube_depth\" #Naming model\n",
    "model.layers[0]._name = 'input'\n",
    "model.layers[1]._name = 'hidden_layer_1'\n",
    "model.layers[2]._name = 'hidden_layer_2'\n",
    "model.layers[3]._name = 'hidden_layer_3'\n",
    "model.layers[4]._name = 'output'\n",
    "\n",
    "model.save('saved_model/my_model')"
   ]
  },
  {
   "cell_type": "code",
   "execution_count": 10,
   "metadata": {},
   "outputs": [
    {
     "name": "stdout",
     "output_type": "stream",
     "text": [
      "Model: \"cube_depth\"\n",
      "_________________________________________________________________\n",
      " Layer (type)                Output Shape              Param #   \n",
      "=================================================================\n",
      " input (Flatten)             (None, 54)                0         \n",
      "                                                                 \n",
      " hidden_layer_1 (Dense)      (None, 39)                2145      \n",
      "                                                                 \n",
      " hidden_layer_2 (Dense)      (None, 54)                2160      \n",
      "                                                                 \n",
      " hidden_layer_3 (Dense)      (None, 54)                2970      \n",
      "                                                                 \n",
      " output (Dense)              (None, 9)                 495       \n",
      "                                                                 \n",
      "=================================================================\n",
      "Total params: 7,770\n",
      "Trainable params: 7,770\n",
      "Non-trainable params: 0\n",
      "_________________________________________________________________\n"
     ]
    }
   ],
   "source": [
    "import tensorflow as tf\n",
    "# checking if it was saved succesfully!\n",
    "model = tf.keras.models.load_model('saved_model/my_model')\n",
    "\n",
    "# Check its architecture\n",
    "model.summary()"
   ]
  },
  {
   "cell_type": "code",
   "execution_count": null,
   "metadata": {},
   "outputs": [],
   "source": [
    "from sklearn.metrics import classification_report\n",
    "\n",
    "predictions = model.predict(x=X_test, batch_size=32)"
   ]
  },
  {
   "cell_type": "code",
   "execution_count": 77,
   "metadata": {},
   "outputs": [
    {
     "name": "stdout",
     "output_type": "stream",
     "text": [
      "              precision    recall  f1-score   support\n",
      "\n",
      "           0       0.54      1.00      0.70     19946\n",
      "           1       0.54      0.99      0.70     40152\n",
      "           2       0.47      0.80      0.60     59650\n",
      "           3       0.44      0.51      0.47     79847\n",
      "           4       0.35      0.21      0.26     99830\n",
      "           5       0.32      0.20      0.25    119784\n",
      "           6       0.31      0.12      0.17    140959\n",
      "           7       0.34      0.18      0.24    159987\n",
      "           8       0.37      0.66      0.48    179845\n",
      "\n",
      "    accuracy                           0.40    900000\n",
      "   macro avg       0.41      0.52      0.43    900000\n",
      "weighted avg       0.37      0.40      0.35    900000\n",
      "\n"
     ]
    }
   ],
   "source": [
    "print(classification_report(y_test,\n",
    "\tpredictions.argmax(axis=1)))"
   ]
  },
  {
   "cell_type": "code",
   "execution_count": 83,
   "metadata": {},
   "outputs": [],
   "source": [
    "accuracy = classification_report(y_test, predictions.argmax(axis=1), output_dict=True)[\"accuracy\"]"
   ]
  },
  {
   "cell_type": "code",
   "execution_count": 84,
   "metadata": {},
   "outputs": [
    {
     "data": {
      "text/plain": [
       "Text(0.5, 1.0, 'Accuracy Score: 0.3976588888888889')"
      ]
     },
     "execution_count": 84,
     "metadata": {},
     "output_type": "execute_result"
    },
    {
     "data": {
      "image/png": "[encoded data removed]",
      "text/plain": [
       "<Figure size 648x648 with 2 Axes>"
      ]
     },
     "metadata": {
      "needs_background": "light"
     },
     "output_type": "display_data"
    }
   ],
   "source": [
    "from sklearn import metrics\n",
    "import seaborn as sns\n",
    "cm = metrics.confusion_matrix(y_test, predictions.argmax(axis=1))\n",
    "\n",
    "plt.figure(figsize=(9,9))\n",
    "sns.heatmap(cm, annot=True, fmt=\".3f\", linewidths=.5, square = True, cmap = 'Blues_r');\n",
    "plt.ylabel('Actual label')\n",
    "plt.xlabel('Predicted label')\n",
    "all_sample_title = 'Accuracy Score: {0}'.format(accuracy)\n",
    "plt.title(all_sample_title, size = 15)"
   ]
  }
 ],
 "metadata": {
  "interpreter": {
   "hash": "735a7325a9e72e60b585a525195a7ebd9f4944211ae877f55348337ef9976881"
  },
  "kernelspec": {
   "display_name": "Python 3.8.3 64-bit ('base': conda)",
   "language": "python",
   "name": "python3"
  },
  "language_info": {
   "codemirror_mode": {
    "name": "ipython",
    "version": 3
   },
   "file_extension": ".py",
   "mimetype": "text/x-python",
   "name": "python",
   "nbconvert_exporter": "python",
   "pygments_lexer": "ipython3",
   "version": "3.8.3"
  },
  "orig_nbformat": 4
 },
 "nbformat": 4,
 "nbformat_minor": 2
}
